{
  "nbformat": 4,
  "nbformat_minor": 0,
  "metadata": {
    "colab": {
      "name": "백준 1920번 수 찾기.ipynb",
      "provenance": []
    },
    "kernelspec": {
      "name": "python3",
      "display_name": "Python 3"
    },
    "language_info": {
      "name": "python"
    }
  },
  "cells": [
    {
      "cell_type": "markdown",
      "metadata": {
        "id": "-Bx8eHMwM5Ij"
      },
      "source": [
        "- 문제 : https://www.acmicpc.net/problem/1920"
      ]
    },
    {
      "cell_type": "code",
      "metadata": {
        "id": "0PSPqTMOMx_S"
      },
      "source": [
        "array_len = int(input())\n",
        "arr = list(map(int, input().split()))\n",
        "\n",
        "arr.sort()\n",
        "\n",
        "candidate_len = int(input())\n",
        "candi = list(map(int, input().split()))\n",
        "\n",
        "start = 0\n",
        "end = array_len - 1\n",
        "\n",
        "\n",
        "def binary_search(array, target, start, end):\n",
        "    while start <= end:\n",
        "        mid = (start + end) // 2\n",
        "        \n",
        "        if array[mid] == target:\n",
        "            return 1\n",
        "        elif array[mid] > target:\n",
        "            end = mid - 1\n",
        "        else:\n",
        "            start = mid + 1\n",
        "\n",
        "    return 0\n",
        "\n",
        "for i in candi:\n",
        "    print(binary_search(arr, i, start, end))"
      ],
      "execution_count": null,
      "outputs": []
    }
  ]
}