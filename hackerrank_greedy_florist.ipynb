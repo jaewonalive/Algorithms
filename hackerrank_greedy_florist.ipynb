{
 "cells": [
  {
   "cell_type": "markdown",
   "metadata": {},
   "source": [
    "- Problem\n",
    "    - https://www.hackerrank.com/challenges/greedy-florist/problem?h_l=interview&playlist_slugs%5B%5D=interview-preparation-kit&playlist_slugs%5B%5D=greedy-algorithms\n",
    "- you may need to log-in hackerrank in order to see the problem."
   ]
  },
  {
   "cell_type": "code",
   "execution_count": 1,
   "metadata": {},
   "outputs": [],
   "source": [
    "def getMinimumCost(k, c):\n",
    "    n = len(c)\n",
    "\n",
    "    stack = 0\n",
    "    min_cost = 0\n",
    "\n",
    "    \n",
    "    if n <= k:\n",
    "        min_cost += sum(c)\n",
    "\n",
    "\n",
    "\n",
    "    else :\n",
    "        min_cost += sum(c[-k:])\n",
    "        while n - stack*k > k:\n",
    "            stack+=1\n",
    "\n",
    "            if n - stack*k <= k:\n",
    "                min_cost += sum(c[-n:-k*stack])*(1+stack)\n",
    "\n",
    "            else :\n",
    "                min_cost += sum(c[-k-k*stack:-k*stack])*(1+stack)\n",
    "            \n",
    "    return min_cost"
   ]
  },
  {
   "cell_type": "markdown",
   "metadata": {},
   "source": [
    "- Examples given in the problem"
   ]
  },
  {
   "cell_type": "code",
   "execution_count": 5,
   "metadata": {},
   "outputs": [
    {
     "name": "stdout",
     "output_type": "stream",
     "text": [
      "13\n",
      "15\n",
      "29\n"
     ]
    }
   ],
   "source": [
    "print(getMinimumCost(3, [2,5,6]))\n",
    "print(getMinimumCost(2, [2,5,6]))\n",
    "print(getMinimumCost(3, [1,3,5,7,9]))"
   ]
  },
  {
   "cell_type": "markdown",
   "metadata": {},
   "source": [
    "- This code works well in another example.\n",
    "    - for k=3, n=10, c=[1,3,5,7,9,11,13,14,16,17], 14+16+17+(9+11+13)(1+1)+(3+5+7)(1+2)+1(1+3) = 162"
   ]
  },
  {
   "cell_type": "code",
   "execution_count": 6,
   "metadata": {},
   "outputs": [
    {
     "name": "stdout",
     "output_type": "stream",
     "text": [
      "162\n"
     ]
    }
   ],
   "source": [
    "print(getMinimumCost(3, [1,3,5,7,9,11,13,14,16,17]))"
   ]
  }
 ],
 "metadata": {
  "kernelspec": {
   "display_name": "Python 3",
   "language": "python",
   "name": "python3"
  },
  "language_info": {
   "codemirror_mode": {
    "name": "ipython",
    "version": 3
   },
   "file_extension": ".py",
   "mimetype": "text/x-python",
   "name": "python",
   "nbconvert_exporter": "python",
   "pygments_lexer": "ipython3",
   "version": "3.7.6"
  }
 },
 "nbformat": 4,
 "nbformat_minor": 4
}
