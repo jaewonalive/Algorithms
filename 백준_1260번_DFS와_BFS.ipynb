{
  "nbformat": 4,
  "nbformat_minor": 0,
  "metadata": {
    "colab": {
      "name": "백준 1260번 DFS와 BFS.ipynb",
      "provenance": []
    },
    "kernelspec": {
      "name": "python3",
      "display_name": "Python 3"
    },
    "language_info": {
      "name": "python"
    }
  },
  "cells": [
    {
      "cell_type": "markdown",
      "metadata": {
        "id": "UE5OZPCX_A7i"
      },
      "source": [
        "- problem : https://www.acmicpc.net/problem/1260"
      ]
    },
    {
      "cell_type": "code",
      "metadata": {
        "id": "bpjte2Qn-ze6"
      },
      "source": [
        "init_ls = input().split()\n",
        "vertex_num = int(init_ls[0])\n",
        "edge_num = int(init_ls[1])\n",
        "start_vertex = int(init_ls[2])\n",
        "\n",
        "adjacency_ls_dfs = [[] for _ in range(vertex_num+1)]\n",
        "adjacency_ls_bfs = [[] for _ in range(vertex_num+1)]\n",
        "\n",
        "for _ in range(edge_num):\n",
        "    edge = input().split()\n",
        "    edge[0] = int(edge[0])\n",
        "    edge[1] = int(edge[1])\n",
        "    \n",
        "    adjacency_ls_dfs[edge[0]].append(edge[1])\n",
        "    adjacency_ls_dfs[edge[1]].append(edge[0])\n",
        "    \n",
        "    adjacency_ls_bfs[edge[0]].append(edge[1])\n",
        "    adjacency_ls_bfs[edge[1]].append(edge[0])\n",
        "\n",
        "\n",
        "for i in range(len(adjacency_ls_bfs)):\n",
        "    adjacency_ls_dfs[i] = sorted(adjacency_ls_dfs[i], reverse=True)\n",
        "    adjacency_ls_bfs[i] = sorted(adjacency_ls_bfs[i])\n",
        "\n",
        "stack = [start_vertex]\n",
        "visited_vertex_dfs = []\n",
        "\n",
        "while stack:\n",
        "    current = stack.pop()\n",
        "    \n",
        "    for neighbor in adjacency_ls_dfs[current]:\n",
        "        if (not neighbor in visited_vertex_dfs) :\n",
        "            stack.append(neighbor)\n",
        "    if current not in visited_vertex_dfs:\n",
        "        visited_vertex_dfs.append(current)\n",
        "    \n",
        "\n",
        "visited_vertex_bfs = []    \n",
        "    \n",
        "from collections import deque\n",
        "\n",
        "queue = deque([start_vertex])\n",
        "visited_vertex_bfs.append(start_vertex)\n",
        "\n",
        "while queue:\n",
        "    current = queue.popleft()\n",
        "    for neighbor in adjacency_ls_bfs[current]:\n",
        "        if (not neighbor in visited_vertex_bfs) :\n",
        "            queue.append(neighbor)\n",
        "            if neighbor not in visited_vertex_bfs:\n",
        "                visited_vertex_bfs.append(neighbor)\n",
        "\n",
        "\n",
        "for i in visited_vertex_dfs:\n",
        "    if i == visited_vertex_dfs[-1]:\n",
        "      print(i)\n",
        "      break\n",
        "    print(i, end = \" \")\n",
        "    \n",
        "for i in visited_vertex_bfs:\n",
        "    print(i, end = \" \")"
      ],
      "execution_count": null,
      "outputs": []
    }
  ]
}