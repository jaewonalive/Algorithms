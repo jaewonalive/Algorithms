{
  "nbformat": 4,
  "nbformat_minor": 0,
  "metadata": {
    "colab": {
      "name": "1이 될 때까지.ipynb",
      "provenance": []
    },
    "kernelspec": {
      "name": "python3",
      "display_name": "Python 3"
    },
    "language_info": {
      "name": "python"
    }
  },
  "cells": [
    {
      "cell_type": "markdown",
      "metadata": {
        "id": "soXdObY00QUY"
      },
      "source": [
        "- problem : https://www.youtube.com/watch?v=2zjoKjt97vQ&list=PLRx0vPvlEmdAghTr5mXQxGpHjWqSz0dgC&index=2\n",
        "- The tutor introduces the exercise problem from 11:15 to 12:35"
      ]
    },
    {
      "cell_type": "code",
      "metadata": {
        "id": "3ImzS0jF0Gl-"
      },
      "source": [
        "n, k = map(int, input().split())\n",
        "\n",
        "## 나눗셈은 빼기의 합이므로 나눌 수 있다면 나누는 게 좋다. (정당성 분석)\n",
        "\n",
        "count = 0\n",
        "while n != 1 :\n",
        "  if n%k == 0:\n",
        "    n /= k\n",
        "    count += 1\n",
        "\n",
        "  else :\n",
        "    n -= 1\n",
        "    count += 1\n",
        "\n",
        "print(count)"
      ],
      "execution_count": null,
      "outputs": []
    }
  ]
}