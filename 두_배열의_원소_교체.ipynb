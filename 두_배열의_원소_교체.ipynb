{
  "nbformat": 4,
  "nbformat_minor": 0,
  "metadata": {
    "colab": {
      "name": "두 배열의 원소 교체.ipynb",
      "provenance": []
    },
    "kernelspec": {
      "name": "python3",
      "display_name": "Python 3"
    },
    "language_info": {
      "name": "python"
    }
  },
  "cells": [
    {
      "cell_type": "markdown",
      "metadata": {
        "id": "kygXlj_G6Rvx"
      },
      "source": [
        "- problem : https://www.youtube.com/watch?v=KGyK-pNvWos&t=1680s\n",
        "- The tutor introduces the exercise problem from 38:38 to 41:05\n",
        "\n"
      ]
    },
    {
      "cell_type": "code",
      "metadata": {
        "colab": {
          "base_uri": "https://localhost:8080/"
        },
        "id": "JnNIJ9Sc5q7u",
        "outputId": "748fbd18-ea36-4f29-ff2d-bb7bbfcce12e"
      },
      "source": [
        "def change_arr():\n",
        "\n",
        "  n, k = map(int, input().split())\n",
        "  a = list(map(int, input().split()))\n",
        "  b = list(map(int, input().split()))\n",
        "\n",
        "  a.sort()\n",
        "  b.sort(reverse=True)\n",
        "\n",
        "  cng = 0\n",
        "  i = 0 \n",
        "\n",
        "\n",
        "  for j in range(i, n, 1):\n",
        "    if a[j] < b[cng]:\n",
        "      a[j], b[cng] = b[cng], a[j]\n",
        "      cng += 1\n",
        "\n",
        "      if cng >= k:\n",
        "        break\n",
        "\n",
        "      tmp = j +1\n",
        "      i = tmp\n",
        "\n",
        "  return sum(a)\n",
        "\n",
        "change_arr()"
      ],
      "execution_count": 1,
      "outputs": [
        {
          "output_type": "stream",
          "text": [
            "5 3\n",
            "1 2 5 4 3\n",
            "5 5 6 6 5\n"
          ],
          "name": "stdout"
        },
        {
          "output_type": "execute_result",
          "data": {
            "text/plain": [
              "26"
            ]
          },
          "metadata": {},
          "execution_count": 1
        }
      ]
    }
  ]
}