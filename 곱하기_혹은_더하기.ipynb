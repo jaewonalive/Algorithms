{
  "nbformat": 4,
  "nbformat_minor": 0,
  "metadata": {
    "colab": {
      "name": "곱하기 혹은 더하기.ipynb",
      "provenance": []
    },
    "kernelspec": {
      "name": "python3",
      "display_name": "Python 3"
    },
    "language_info": {
      "name": "python"
    }
  },
  "cells": [
    {
      "cell_type": "markdown",
      "metadata": {
        "id": "soXdObY00QUY"
      },
      "source": [
        "- problem : https://www.youtube.com/watch?v=2zjoKjt97vQ&list=PLRx0vPvlEmdAghTr5mXQxGpHjWqSz0dgC&index=2\n",
        "- The tutor introduces the exercise problem from 18:48 to 20:43"
      ]
    },
    {
      "cell_type": "code",
      "metadata": {
        "id": "3ImzS0jF0Gl-",
        "colab": {
          "base_uri": "https://localhost:8080/"
        },
        "outputId": "7acee5aa-ae5e-400a-922b-129d01dd28df"
      },
      "source": [
        "s = input()\n",
        "\n",
        "ix = 0\n",
        "length = len(s)\n",
        "total = 0\n",
        "\n",
        "while ix <length:\n",
        "  if ix == 0:\n",
        "    total += int(s[ix])\n",
        "    ix += 1\n",
        "    continue\n",
        "\n",
        "  if (total <= 1 or int(s[ix])<=1):\n",
        "    total += int(s[ix])\n",
        "    ix += 1\n",
        "    \n",
        "  else:\n",
        "    total *= int(s[ix])\n",
        "    ix += 1\n",
        "    \n",
        "    \n",
        "print(total)"
      ],
      "execution_count": 1,
      "outputs": [
        {
          "output_type": "stream",
          "text": [
            "02984\n",
            "576\n"
          ],
          "name": "stdout"
        }
      ]
    }
  ]
}