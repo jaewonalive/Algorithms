{
  "nbformat": 4,
  "nbformat_minor": 0,
  "metadata": {
    "colab": {
      "name": "백준 2606번 바이러스.ipynb",
      "provenance": []
    },
    "kernelspec": {
      "name": "python3",
      "display_name": "Python 3"
    },
    "language_info": {
      "name": "python"
    }
  },
  "cells": [
    {
      "cell_type": "markdown",
      "metadata": {
        "id": "QgoQ4lD-ePQs"
      },
      "source": [
        "- problem : https://www.acmicpc.net/problem/2606"
      ]
    },
    {
      "cell_type": "code",
      "metadata": {
        "id": "FlvAklQReYAF"
      },
      "source": [
        "num_com = int(input())\n",
        "num_direct = int(input())\n",
        "\n",
        "connect_ls = []\n",
        "for i in range(num_direct):\n",
        "    a = input().split()\n",
        "    a[0] = int(a[0])\n",
        "    a[1] = int(a[1])\n",
        "    connect_ls.append(a)\n",
        "    \n",
        "adjacency_ls = [[] for i in range(num_com+1)]\n",
        "\n",
        "for i in range(1, len(connect_ls)+1, 1):\n",
        "    for j in connect_ls:\n",
        "        if j[1] not in adjacency_ls[j[0]]:\n",
        "            adjacency_ls[j[0]].append(j[1])\n",
        "        \n",
        "        if j[0] not in adjacency_ls[j[1]]:\n",
        "            adjacency_ls[j[1]].append(j[0])\n",
        "            \n",
        "            \n",
        "stack = [1]\n",
        "visited_com = []\n",
        "\n",
        "while stack:\n",
        "    current = stack.pop()\n",
        "    for neighbor in adjacency_ls[current]:\n",
        "        if not neighbor in visited_com and not neighbor in stack:\n",
        "            stack.append(neighbor)\n",
        "    visited_com.append(current)\n",
        "\n",
        "print(len(visited_com) - 1)"
      ],
      "execution_count": null,
      "outputs": []
    }
  ]
}