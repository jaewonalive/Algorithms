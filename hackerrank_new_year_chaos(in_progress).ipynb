{
 "cells": [
  {
   "cell_type": "markdown",
   "metadata": {},
   "source": [
    "- This code fails to pass test case 6,7,8,9 due to time limit and passes the other test cases."
   ]
  },
  {
   "cell_type": "code",
   "execution_count": null,
   "metadata": {},
   "outputs": [],
   "source": [
    "#!/bin/python3\n",
    "\n",
    "import math\n",
    "import os\n",
    "import random\n",
    "import re\n",
    "import sys\n",
    "\n",
    "# Complete the minimumBribes function below.\n",
    "def minimumBribes(q):\n",
    "    \n",
    "    lnt = len(q)\n",
    "    left_bribe_opt = 2\n",
    "    cnt = 0\n",
    "\n",
    "    total_ls = [[i+1, i, q.index(i+1),left_bribe_opt] for i in range(lnt)]\n",
    "    total_ls = sorted(total_ls, key = lambda num_info : num_info[2])\n",
    "    \n",
    "\n",
    "    for j in range(len(total_ls)):\n",
    "        if total_ls[j][2] - total_ls[j][1] > 2:\n",
    "            print('Too chaotic')\n",
    "            return\n",
    "\n",
    "  \n",
    "\n",
    "        while total_ls[j][1] > total_ls[j][2]:\n",
    "            \n",
    "            replaced_ind = [total_ls[i][1] for i in range(len(total_ls))].index(total_ls[j][1]-1)\n",
    "            \n",
    "            total_ls[j][1] -= 1\n",
    "            total_ls[replaced_ind][1] += 1\n",
    "            total_ls[j][3] -= 1 # bribe_opt 감소\n",
    "            \n",
    "            if total_ls[j][3] < 0:\n",
    "                print('Too chaotic')\n",
    "                return\n",
    "            cnt+=1\n",
    "\n",
    "    print(cnt)\n",
    "\n",
    "\n",
    "if __name__ == '__main__':\n",
    "    t = int(input())\n",
    "\n",
    "    for t_itr in range(t):\n",
    "        n = int(input())\n",
    "\n",
    "        q = list(map(int, input().rstrip().split()))\n",
    "\n",
    "        minimumBribes(q)\n"
   ]
  }
 ],
 "metadata": {
  "kernelspec": {
   "display_name": "Python 3",
   "language": "python",
   "name": "python3"
  },
  "language_info": {
   "codemirror_mode": {
    "name": "ipython",
    "version": 3
   },
   "file_extension": ".py",
   "mimetype": "text/x-python",
   "name": "python",
   "nbconvert_exporter": "python",
   "pygments_lexer": "ipython3",
   "version": "3.7.3"
  }
 },
 "nbformat": 4,
 "nbformat_minor": 2
}
