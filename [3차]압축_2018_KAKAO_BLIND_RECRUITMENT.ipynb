{
 "cells": [
  {
   "cell_type": "code",
   "execution_count": null,
   "metadata": {},
   "outputs": [],
   "source": [
    "def solution(msg):\n",
    "    answer = []\n",
    "    \n",
    "    init_dict = {'A' : 1, 'B' : 2, 'C' : 3, 'D' : 4, 'E' : 5,\n",
    "                 'F' : 6, 'G' : 7, 'H' : 8, 'I' : 9, 'J' : 10,\n",
    "                 'K' : 11, 'L': 12, 'M' :13, 'N':14, 'O':15,\n",
    "                 'P':16, 'Q':17, 'R':18, 'S':19, 'T':20, 'U':21,\n",
    "                 'V': 22, 'W':23, 'X':24, 'Y':25, 'Z':26\n",
    "    }\n",
    "    \n",
    "    lnt = len(msg)\n",
    "    cleaned_msg = msg\n",
    "    concat_string=''\n",
    "    \n",
    "    while True:\n",
    "        searching = cleaned_msg[0]\n",
    "        \n",
    "        end_ix = 1\n",
    "        while (searching in init_dict.keys()) :\n",
    "            end_ix += 1\n",
    "            searching = cleaned_msg[0:end_ix]\n",
    "            \n",
    "            if concat_string+searching == msg:\n",
    "                if searching in init_dict.keys():\n",
    "                    answer.append(init_dict[searching])\n",
    "                    return answer\n",
    "                \n",
    "                else:\n",
    "                    longest_found = cleaned_msg[0:end_ix-1]\n",
    "                    answer.append(init_dict[longest_found])\n",
    "                    answer.append(init_dict[cleaned_msg[-1]])\n",
    "                    return answer\n",
    "\n",
    "                \n",
    "        longest_found = cleaned_msg[0:end_ix-1]\n",
    "        answer.append(init_dict[longest_found])\n",
    "        concat_string += longest_found        \n",
    "        init_dict[searching] = len(init_dict) + 1\n",
    "        cleaned_msg = cleaned_msg[end_ix-1:]"
   ]
  }
 ],
 "metadata": {
  "kernelspec": {
   "display_name": "Python 3",
   "language": "python",
   "name": "python3"
  },
  "language_info": {
   "codemirror_mode": {
    "name": "ipython",
    "version": 3
   },
   "file_extension": ".py",
   "mimetype": "text/x-python",
   "name": "python",
   "nbconvert_exporter": "python",
   "pygments_lexer": "ipython3",
   "version": "3.7.3"
  }
 },
 "nbformat": 4,
 "nbformat_minor": 2
}
