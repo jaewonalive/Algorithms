{
  "nbformat": 4,
  "nbformat_minor": 0,
  "metadata": {
    "colab": {
      "name": "기능개발",
      "provenance": []
    },
    "kernelspec": {
      "name": "python3",
      "display_name": "Python 3"
    },
    "language_info": {
      "name": "python"
    }
  },
  "cells": [
    {
      "cell_type": "markdown",
      "metadata": {
        "id": "DWE0x7-6da0e"
      },
      "source": [
        "- problem : https://programmers.co.kr/learn/courses/30/lessons/42586"
      ]
    },
    {
      "cell_type": "code",
      "metadata": {
        "id": "hRzjpdqDdSfL"
      },
      "source": [
        "def solution(progresses, speeds):\n",
        "   \n",
        "    remains = [100 - i for i in progresses]\n",
        "    \n",
        "    function_num = len(progresses)\n",
        "    work_days_ls = []\n",
        "    for i in range(function_num):\n",
        "        date_quotient = remains[i] // speeds[i]\n",
        "        date_remainder = remains[i] % speeds[i]\n",
        "        \n",
        "        if date_remainder == 0 :\n",
        "            work_days_ls.append(date_quotient)\n",
        "            \n",
        "        else:\n",
        "            work_days_ls.append(date_quotient+1)\n",
        "    \n",
        "\n",
        "    init_value = work_days_ls[0]\n",
        "\n",
        "    cnt = 0\n",
        "    answer = []\n",
        "    for i in range(len(work_days_ls)):\n",
        "\n",
        "        if work_days_ls[i] - init_value <= 0:\n",
        "            cnt += 1\n",
        "                \n",
        "        else :\n",
        "            answer.append(cnt)\n",
        "            init_value = work_days_ls[i]\n",
        "            cnt = 1\n",
        "            \n",
        "    else :\n",
        "        answer.append(cnt)\n",
        "                \n",
        "    return answer"
      ],
      "execution_count": null,
      "outputs": []
    }
  ]
}