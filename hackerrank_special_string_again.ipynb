{
 "cells": [
  {
   "cell_type": "markdown",
   "metadata": {},
   "source": [
    "- Problem: https://www.hackerrank.com/challenges/special-palindrome-again/problem?h_l=interview&playlist_slugs%5B%5D=interview-preparation-kit&playlist_slugs%5B%5D=strings\n",
    "\n",
    "- you may need to log-in hackerrank in order to see the problem."
   ]
  },
  {
   "cell_type": "code",
   "execution_count": 2,
   "metadata": {},
   "outputs": [],
   "source": [
    "def substrCount(n, s):\n",
    "    \n",
    "  \n",
    "    samechar = [0 for _ in range(n)]\n",
    "    continuous_num_ls = []\n",
    "    string = s\n",
    "    \n",
    "    \n",
    "    # record characters which appear continuously.\n",
    "    # this function makes continuous_num_ls contain the length of consecutive alphabets.\n",
    "    # For example, count_continuous_char('aabbcccfc',0) produces continuous_num_ls = [2, 2, 3, 1, 1]\n",
    "    \n",
    "    def count_continuous_char(string, starting_index):\n",
    "        nonlocal continuous_num_ls\n",
    "    \n",
    "        if starting_index >= len(string) :\n",
    "            return\n",
    "    \n",
    "        if starting_index == 0 :\n",
    "            \n",
    "                j=0\n",
    "                while string[starting_index] == string[starting_index +j]:\n",
    "                    j+=1\n",
    "                    if starting_index+j > len(string)-1:\n",
    "                        break\n",
    "        \n",
    "                continuous_num_ls.append(j)\n",
    "    \n",
    "                return count_continuous_char(string, starting_index+j)\n",
    "        \n",
    "        else:\n",
    "            j = 0\n",
    "    \n",
    "            while string[starting_index] == string[starting_index +j]:\n",
    "                    j+=1\n",
    "                \n",
    "                    if starting_index + j > len(string) -1:\n",
    "                        break\n",
    "        \n",
    "            continuous_num_ls.append(j)\n",
    "    \n",
    "            return count_continuous_char(string, starting_index+j)\n",
    "    \n",
    "\n",
    "    \n",
    "    # Unlike above function, this function makes samechar contain the length of consecutive alphabets in every index of string.\n",
    "    # For example, make_same_char(''abbbcbccaba',0) procues samechar = [1, 3, 3, 3, 1, 1, 2, 2, 1, 1, 1]\n",
    "    def make_same_char(string, starting_index):\n",
    "        nonlocal samechar\n",
    "    \n",
    "        if starting_index > len(string) -1:\n",
    "            return starting_index\n",
    "    \n",
    "    \n",
    "        j = 0\n",
    "    \n",
    "    \n",
    "        while (string[starting_index] == string[starting_index + j]) :\n",
    "            j+=1\n",
    "        \n",
    "            if starting_index + j > len(string)-1:\n",
    "                break\n",
    "        \n",
    "        samechar[starting_index: starting_index+j] = [j for _ in range(j)]\n",
    "        \n",
    "        \n",
    "        make_same_char(string, starting_index+j)\n",
    "        \n",
    "        return 0\n",
    "    \n",
    "    \n",
    "    count_continuous_char(string,0)\n",
    "    make_same_char(string,0)\n",
    "    \n",
    "    \n",
    "    #count special string which consists of only one alphabet when we ignore middle of string.\n",
    "    cnt1 = 0\n",
    "    w = 0 \n",
    "    for i in samechar:\n",
    "        if w == 0 :\n",
    "            w+=1\n",
    "            continue\n",
    "    \n",
    "        if w == len(samechar)-1 :\n",
    "            continue\n",
    "    \n",
    "        if i == 1:            \n",
    "                j = 1\n",
    "                while (string[w-j:w] == string[w+1:w+j+1]):\n",
    "                \n",
    "                    \n",
    "                    j+=1\n",
    "                    if (w-j < 0) :\n",
    "                        break\n",
    "                    \n",
    "                cnt1+=j-1\n",
    "        \n",
    "        w += 1\n",
    "        \n",
    "    \n",
    "    #count special string in which only one alphabet appears continuously. \n",
    "    cnt2 = 0\n",
    "    for i in continuous_num_ls:\n",
    "        cnt2+=i*(i+1)/2\n",
    "    \n",
    "    #add two cases which are cnt1 and cnt2 to return answer.\n",
    "    cnt = cnt1+cnt2\n",
    "    \n",
    "    return int(cnt)\n",
    "    "
   ]
  },
  {
   "cell_type": "markdown",
   "metadata": {},
   "source": [
    "- Examples given in the problem"
   ]
  },
  {
   "cell_type": "code",
   "execution_count": 3,
   "metadata": {},
   "outputs": [
    {
     "name": "stdout",
     "output_type": "stream",
     "text": [
      "7\n",
      "10\n",
      "10\n"
     ]
    }
   ],
   "source": [
    "print(substrCount(5, 'asasd'))\n",
    "print(substrCount(7, 'abcbaba'))\n",
    "print(substrCount(4, 'aaaa'))"
   ]
  },
  {
   "cell_type": "markdown",
   "metadata": {},
   "source": [
    "- This code works well in another example.  \n",
    "    - for 'abbcbd', {'a'}, {'b'}, {'b'}, {'c'}, {'b'}, {'d'}, {'bb'}, {'bcb'}/ 8 special strings\n",
    "    - for 'abbbcbccaba', {'a'}, {'b'}, {'b'}, {'b'}, {'c'}, {'b'}, {'c'}, {'c'}, {'a'}, {'b'}, {'a'}, {'bb'}, {'bb'}, {'cc}, {'bbb'}, {'bcb'}, {'cbc'}, {'aba'} / 18 special strings"
   ]
  },
  {
   "cell_type": "code",
   "execution_count": 6,
   "metadata": {},
   "outputs": [
    {
     "name": "stdout",
     "output_type": "stream",
     "text": [
      "8\n",
      "18\n"
     ]
    }
   ],
   "source": [
    "print(substrCount(6,'abbcbd'))\n",
    "print(substrCount(11,'abbbcbccaba'))"
   ]
  },
  {
   "cell_type": "markdown",
   "metadata": {},
   "source": [
    "- However, this code fails to pass test cases due to recursion limit."
   ]
  }
 ],
 "metadata": {
  "kernelspec": {
   "display_name": "Python 3",
   "language": "python",
   "name": "python3"
  },
  "language_info": {
   "codemirror_mode": {
    "name": "ipython",
    "version": 3
   },
   "file_extension": ".py",
   "mimetype": "text/x-python",
   "name": "python",
   "nbconvert_exporter": "python",
   "pygments_lexer": "ipython3",
   "version": "3.7.6"
  }
 },
 "nbformat": 4,
 "nbformat_minor": 4
}
